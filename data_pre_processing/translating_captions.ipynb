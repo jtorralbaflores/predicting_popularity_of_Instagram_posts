{
 "cells": [
  {
   "cell_type": "code",
   "execution_count": 1,
   "metadata": {
    "colab": {
     "base_uri": "https://localhost:8080/"
    },
    "executionInfo": {
     "elapsed": 19513,
     "status": "ok",
     "timestamp": 1711184496016,
     "user": {
      "displayName": "Javier Torralba Flores",
      "userId": "04030390242553285581"
     },
     "user_tz": -60
    },
    "id": "6k7s7Ts2_jiU",
    "outputId": "f42f6a29-cd79-4eb9-aecd-802a19c166d7"
   },
   "outputs": [
    {
     "name": "stdout",
     "output_type": "stream",
     "text": [
      "Mounted at /content/drive\n"
     ]
    }
   ],
   "source": [
    "from google.colab import drive\n",
    "drive.mount('/content/drive')"
   ]
  },
  {
   "cell_type": "code",
   "execution_count": 2,
   "metadata": {
    "executionInfo": {
     "elapsed": 12257,
     "status": "ok",
     "timestamp": 1711184509522,
     "user": {
      "displayName": "Javier Torralba Flores",
      "userId": "04030390242553285581"
     },
     "user_tz": -60
    },
    "id": "DNnsml5a0aDG"
   },
   "outputs": [],
   "source": [
    "import numpy as np\n",
    "from PIL import Image\n",
    "import matplotlib.pyplot as plt\n",
    "import pandas as pd\n",
    "\n",
    "data = pd.read_csv('/content/drive/MyDrive/MSc Thesis Data Science/influencer_brands/Data/Metadata/all_metadata.csv')"
   ]
  },
  {
   "cell_type": "code",
   "execution_count": 3,
   "metadata": {
    "colab": {
     "base_uri": "https://localhost:8080/"
    },
    "executionInfo": {
     "elapsed": 246,
     "status": "ok",
     "timestamp": 1711184512217,
     "user": {
      "displayName": "Javier Torralba Flores",
      "userId": "04030390242553285581"
     },
     "user_tz": -60
    },
    "id": "EkajhRql3QzB",
    "outputId": "555a94eb-5fc4-4272-d125-68eb5317cb0d"
   },
   "outputs": [
    {
     "name": "stdout",
     "output_type": "stream",
     "text": [
      "(187876, 30)\n"
     ]
    }
   ],
   "source": [
    "print(data.shape)"
   ]
  },
  {
   "cell_type": "code",
   "execution_count": 4,
   "metadata": {
    "colab": {
     "base_uri": "https://localhost:8080/"
    },
    "executionInfo": {
     "elapsed": 11727,
     "status": "ok",
     "timestamp": 1711184529967,
     "user": {
      "displayName": "Javier Torralba Flores",
      "userId": "04030390242553285581"
     },
     "user_tz": -60
    },
    "id": "rYoxkNE-FBvi",
    "outputId": "1bd00e19-2258-48b7-ca4d-95d819a1ebfc"
   },
   "outputs": [
    {
     "name": "stdout",
     "output_type": "stream",
     "text": [
      "Collecting googletrans==3.1.0a0\n",
      "  Downloading googletrans-3.1.0a0.tar.gz (19 kB)\n",
      "  Preparing metadata (setup.py) ... \u001b[?25l\u001b[?25hdone\n",
      "Collecting httpx==0.13.3 (from googletrans==3.1.0a0)\n",
      "  Downloading httpx-0.13.3-py3-none-any.whl (55 kB)\n",
      "\u001b[2K     \u001b[90m━━━━━━━━━━━━━━━━━━━━━━━━━━━━━━━━━━━━━━━━\u001b[0m \u001b[32m55.1/55.1 kB\u001b[0m \u001b[31m2.1 MB/s\u001b[0m eta \u001b[36m0:00:00\u001b[0m\n",
      "\u001b[?25hRequirement already satisfied: certifi in /usr/local/lib/python3.10/dist-packages (from httpx==0.13.3->googletrans==3.1.0a0) (2024.2.2)\n",
      "Collecting hstspreload (from httpx==0.13.3->googletrans==3.1.0a0)\n",
      "  Downloading hstspreload-2024.3.1-py3-none-any.whl (1.1 MB)\n",
      "\u001b[2K     \u001b[90m━━━━━━━━━━━━━━━━━━━━━━━━━━━━━━━━━━━━━━━━\u001b[0m \u001b[32m1.1/1.1 MB\u001b[0m \u001b[31m7.8 MB/s\u001b[0m eta \u001b[36m0:00:00\u001b[0m\n",
      "\u001b[?25hRequirement already satisfied: sniffio in /usr/local/lib/python3.10/dist-packages (from httpx==0.13.3->googletrans==3.1.0a0) (1.3.1)\n",
      "Collecting chardet==3.* (from httpx==0.13.3->googletrans==3.1.0a0)\n",
      "  Downloading chardet-3.0.4-py2.py3-none-any.whl (133 kB)\n",
      "\u001b[2K     \u001b[90m━━━━━━━━━━━━━━━━━━━━━━━━━━━━━━━━━━━━━━━━\u001b[0m \u001b[32m133.4/133.4 kB\u001b[0m \u001b[31m9.5 MB/s\u001b[0m eta \u001b[36m0:00:00\u001b[0m\n",
      "\u001b[?25hCollecting idna==2.* (from httpx==0.13.3->googletrans==3.1.0a0)\n",
      "  Downloading idna-2.10-py2.py3-none-any.whl (58 kB)\n",
      "\u001b[2K     \u001b[90m━━━━━━━━━━━━━━━━━━━━━━━━━━━━━━━━━━━━━━━━\u001b[0m \u001b[32m58.8/58.8 kB\u001b[0m \u001b[31m6.4 MB/s\u001b[0m eta \u001b[36m0:00:00\u001b[0m\n",
      "\u001b[?25hCollecting rfc3986<2,>=1.3 (from httpx==0.13.3->googletrans==3.1.0a0)\n",
      "  Downloading rfc3986-1.5.0-py2.py3-none-any.whl (31 kB)\n",
      "Collecting httpcore==0.9.* (from httpx==0.13.3->googletrans==3.1.0a0)\n",
      "  Downloading httpcore-0.9.1-py3-none-any.whl (42 kB)\n",
      "\u001b[2K     \u001b[90m━━━━━━━━━━━━━━━━━━━━━━━━━━━━━━━━━━━━━━━━\u001b[0m \u001b[32m42.6/42.6 kB\u001b[0m \u001b[31m4.8 MB/s\u001b[0m eta \u001b[36m0:00:00\u001b[0m\n",
      "\u001b[?25hCollecting h11<0.10,>=0.8 (from httpcore==0.9.*->httpx==0.13.3->googletrans==3.1.0a0)\n",
      "  Downloading h11-0.9.0-py2.py3-none-any.whl (53 kB)\n",
      "\u001b[2K     \u001b[90m━━━━━━━━━━━━━━━━━━━━━━━━━━━━━━━━━━━━━━━━\u001b[0m \u001b[32m53.6/53.6 kB\u001b[0m \u001b[31m6.5 MB/s\u001b[0m eta \u001b[36m0:00:00\u001b[0m\n",
      "\u001b[?25hCollecting h2==3.* (from httpcore==0.9.*->httpx==0.13.3->googletrans==3.1.0a0)\n",
      "  Downloading h2-3.2.0-py2.py3-none-any.whl (65 kB)\n",
      "\u001b[2K     \u001b[90m━━━━━━━━━━━━━━━━━━━━━━━━━━━━━━━━━━━━━━━━\u001b[0m \u001b[32m65.0/65.0 kB\u001b[0m \u001b[31m7.4 MB/s\u001b[0m eta \u001b[36m0:00:00\u001b[0m\n",
      "\u001b[?25hCollecting hyperframe<6,>=5.2.0 (from h2==3.*->httpcore==0.9.*->httpx==0.13.3->googletrans==3.1.0a0)\n",
      "  Downloading hyperframe-5.2.0-py2.py3-none-any.whl (12 kB)\n",
      "Collecting hpack<4,>=3.0 (from h2==3.*->httpcore==0.9.*->httpx==0.13.3->googletrans==3.1.0a0)\n",
      "  Downloading hpack-3.0.0-py2.py3-none-any.whl (38 kB)\n",
      "Building wheels for collected packages: googletrans\n",
      "  Building wheel for googletrans (setup.py) ... \u001b[?25l\u001b[?25hdone\n",
      "  Created wheel for googletrans: filename=googletrans-3.1.0a0-py3-none-any.whl size=16353 sha256=88cfeb247f9811062ccaa3c59d40b314faa1a86b236757a830f2aaae4aa4abde\n",
      "  Stored in directory: /root/.cache/pip/wheels/50/5d/3c/8477d0af4ca2b8b1308812c09f1930863caeebc762fe265a95\n",
      "Successfully built googletrans\n",
      "Installing collected packages: rfc3986, hyperframe, hpack, h11, chardet, idna, hstspreload, h2, httpcore, httpx, googletrans\n",
      "  Attempting uninstall: chardet\n",
      "    Found existing installation: chardet 5.2.0\n",
      "    Uninstalling chardet-5.2.0:\n",
      "      Successfully uninstalled chardet-5.2.0\n",
      "  Attempting uninstall: idna\n",
      "    Found existing installation: idna 3.6\n",
      "    Uninstalling idna-3.6:\n",
      "      Successfully uninstalled idna-3.6\n",
      "Successfully installed chardet-3.0.4 googletrans-3.1.0a0 h11-0.9.0 h2-3.2.0 hpack-3.0.0 hstspreload-2024.3.1 httpcore-0.9.1 httpx-0.13.3 hyperframe-5.2.0 idna-2.10 rfc3986-1.5.0\n"
     ]
    }
   ],
   "source": [
    "!pip install googletrans==3.1.0a0"
   ]
  },
  {
   "cell_type": "code",
   "execution_count": null,
   "metadata": {
    "colab": {
     "base_uri": "https://localhost:8080/"
    },
    "executionInfo": {
     "elapsed": 183164,
     "status": "ok",
     "timestamp": 1711123758742,
     "user": {
      "displayName": "Javier Torralba Flores",
      "userId": "04030390242553285581"
     },
     "user_tz": -60
    },
    "id": "0nkqZCia5_17",
    "outputId": "befdbca0-6bb9-46c4-e399-f9edf40977f6"
   },
   "outputs": [
    {
     "name": "stderr",
     "output_type": "stream",
     "text": [
      "<ipython-input-10-025c8d37d2f0>:20: SettingWithCopyWarning: \n",
      "A value is trying to be set on a copy of a slice from a DataFrame.\n",
      "Try using .loc[row_indexer,col_indexer] = value instead\n",
      "\n",
      "See the caveats in the documentation: https://pandas.pydata.org/pandas-docs/stable/user_guide/indexing.html#returning-a-view-versus-a-copy\n",
      "  batch_data['Detected_Language'], batch_data['Is_English'] = zip(*batch_data['caption'].apply(detect_language))\n",
      "<ipython-input-10-025c8d37d2f0>:20: SettingWithCopyWarning: \n",
      "A value is trying to be set on a copy of a slice from a DataFrame.\n",
      "Try using .loc[row_indexer,col_indexer] = value instead\n",
      "\n",
      "See the caveats in the documentation: https://pandas.pydata.org/pandas-docs/stable/user_guide/indexing.html#returning-a-view-versus-a-copy\n",
      "  batch_data['Detected_Language'], batch_data['Is_English'] = zip(*batch_data['caption'].apply(detect_language))\n"
     ]
    },
    {
     "name": "stdout",
     "output_type": "stream",
     "text": [
      "Time taken for 5000 observations: 182.7731008529663 seconds\n"
     ]
    }
   ],
   "source": [
    "import time\n",
    "from googletrans import Translator\n",
    "import pandas as pd\n",
    "\n",
    "translator = Translator()\n",
    "\n",
    "def detect_language(caption):\n",
    "    if pd.isna(caption) or caption.strip() == '':\n",
    "        return \"NA\", False\n",
    "    try:\n",
    "        detected_language = translator.detect(caption).lang\n",
    "        return detected_language, (detected_language == 'en')\n",
    "    except Exception as e:\n",
    "        print(f\"Error in detection: {e}\")\n",
    "        return \"Error\", False\n",
    "\n",
    "# Function to process a specific batch of data\n",
    "def process_batch(data, start_index, end_index):\n",
    "    batch_data = data.iloc[start_index:end_index]\n",
    "    batch_data['Detected_Language'], batch_data['Is_English'] = zip(*batch_data['caption'].apply(detect_language))\n",
    "    batch_data.to_csv(f'output_test_batch.csv', index=False)\n",
    "\n",
    "# Run the test with the first 100 observations\n",
    "start_time = time.time()\n",
    "process_batch(data, 0, 5000)  # Process first 100 observations\n",
    "end_time = time.time()\n",
    "\n",
    "print(\"Time taken for 5000 observations:\", end_time - start_time, \"seconds\")"
   ]
  },
  {
   "cell_type": "code",
   "execution_count": 5,
   "metadata": {
    "executionInfo": {
     "elapsed": 7066904,
     "status": "ok",
     "timestamp": 1711191607376,
     "user": {
      "displayName": "Javier Torralba Flores",
      "userId": "04030390242553285581"
     },
     "user_tz": -60
    },
    "id": "Dru4EhUU25IZ"
   },
   "outputs": [],
   "source": [
    "from googletrans import Translator\n",
    "import pandas as pd\n",
    "\n",
    "translator = Translator()\n",
    "\n",
    "def detect_language(caption):\n",
    "    if pd.isna(caption) or caption.strip() == '':\n",
    "        return \"NA\", False  # Return NA for empty or NaN captions\n",
    "\n",
    "    try:\n",
    "        detected_language = translator.detect(caption).lang\n",
    "        is_english = (detected_language == 'en')\n",
    "        return detected_language, is_english\n",
    "    except Exception as e:\n",
    "        print(f\"Error in detection: {e}\")\n",
    "        return \"Error\", False  # Return Error if detection fails\n",
    "\n",
    "# Apply the language detection to the DataFrame\n",
    "data['Detected_Language'], data['Is_English'] = zip(*data['caption'].apply(detect_language))\n",
    "\n",
    "# Save the updated DataFrame\n",
    "data.to_csv('/content/drive/MyDrive/MSc Thesis Data Science/influencer_brands/Data/Metadata/test.csv', index=False)"
   ]
  },
  {
   "cell_type": "code",
   "execution_count": 7,
   "metadata": {
    "colab": {
     "base_uri": "https://localhost:8080/"
    },
    "executionInfo": {
     "elapsed": 357,
     "status": "ok",
     "timestamp": 1711191686405,
     "user": {
      "displayName": "Javier Torralba Flores",
      "userId": "04030390242553285581"
     },
     "user_tz": -60
    },
    "id": "T-G-dMbE-HSE",
    "outputId": "a0c9f3f1-d893-461e-e04e-70a20f3e15d4"
   },
   "outputs": [
    {
     "name": "stdout",
     "output_type": "stream",
     "text": [
      "             Username              post_id caption_is_edited  \\\n",
      "0       00_rocketgirl  1354915397698488656        GraphImage   \n",
      "1       00_rocketgirl  1666974101448132749        GraphImage   \n",
      "2       00_rocketgirl  1768273356099895999        GraphImage   \n",
      "3       00_rocketgirl  1770557472379860655      GraphSidecar   \n",
      "4       00_rocketgirl  1899586748141399903        GraphImage   \n",
      "...               ...                  ...               ...   \n",
      "187871      zwithlove  1689162745453535364      GraphSidecar   \n",
      "187872      zwithlove  1695128267039160652        GraphImage   \n",
      "187873      zwithlove  1926097425697935397        GraphImage   \n",
      "187874    zy.interior  1717335338709878476        GraphImage   \n",
      "187875    zy.interior  1768071743865642104      GraphSidecar   \n",
      "\n",
      "        comments_disabled  image_height  image_width  like_count  \\\n",
      "0                   False          1350         1080         293   \n",
      "1                   False           480          480          73   \n",
      "2                   False          1080         1080         164   \n",
      "3                   False          1350         1080         474   \n",
      "4                   False          1350         1080         116   \n",
      "...                   ...           ...          ...         ...   \n",
      "187871              False          1342         1080         116   \n",
      "187872              False          1350         1080         127   \n",
      "187873              False          1350         1080         196   \n",
      "187874              False          1350         1080         945   \n",
      "187875              False           800          640         291   \n",
      "\n",
      "        comment_count  is_video  \\\n",
      "0                   6     False   \n",
      "1                   2     False   \n",
      "2                   4     False   \n",
      "3                  18     False   \n",
      "4                   2     False   \n",
      "...               ...       ...   \n",
      "187871              8     False   \n",
      "187872              3     False   \n",
      "187873             24     False   \n",
      "187874             94     False   \n",
      "187875             31     False   \n",
      "\n",
      "                                            media_preview  ...  Posts  \\\n",
      "0       ACEqpIWMrs2Spdh+p6fTvULeYqGM7gwk9Tn7v+TVuJ1J2H...  ...   1059   \n",
      "1       ACoqoW8zRIz4Dbx8wYcEDuPz+h71AYYh1OPxFMjXg5PPbn...  ...   1059   \n",
      "2       ACoqzodzSNliAGI5Jx1PbNQszIzLuPGe5/xrQhddu08ZZ8...  ...   1059   \n",
      "3                                                     NaN  ...   1059   \n",
      "4       ACEqz1jkYHnAdjySeOeo/rTQkoJAOTHnOT746d6VJsEqSA...  ...   1059   \n",
      "...                                                   ...  ...    ...   \n",
      "187871                                                NaN  ...    713   \n",
      "187872  ACEq2gaaeeagFyu3celVZriKUcZJB5z0/wAKg0LL3cY+VT...  ...    713   \n",
      "187873  ACEqxsU8ITVhWiUccmot3PHI/KpKAIB70hFTAhunH61MkZ...  ...    713   \n",
      "187874  ACEqug81IMGoiCDg9MUgXAPJ+vpj8P8A9dACXSgKMdSev4...  ...    149   \n",
      "187875                                                NaN  ...    149   \n",
      "\n",
      "                              URL     TF                Category  \\\n",
      "0       https://imgur.com/a/AZW18  False                     NaN   \n",
      "1       https://imgur.com/a/AZW18  False                     NaN   \n",
      "2       https://imgur.com/a/AZW18  False                     NaN   \n",
      "3       https://imgur.com/a/AZW18  False                     NaN   \n",
      "4       https://imgur.com/a/AZW18  False                     NaN   \n",
      "...                           ...    ...                     ...   \n",
      "187871  http://www.zwithlove.com/   True  Creators & Celebrities   \n",
      "187872  http://www.zwithlove.com/   True  Creators & Celebrities   \n",
      "187873  http://www.zwithlove.com/   True  Creators & Celebrities   \n",
      "187874                        NaN   True  Creators & Celebrities   \n",
      "187875                        NaN   True  Creators & Celebrities   \n",
      "\n",
      "                                                      Bio  \\\n",
      "0       Rockets Fan. Red Rowdy. Rockets apparel collec...   \n",
      "1       Rockets Fan. Red Rowdy. Rockets apparel collec...   \n",
      "2       Rockets Fan. Red Rowdy. Rockets apparel collec...   \n",
      "3       Rockets Fan. Red Rowdy. Rockets apparel collec...   \n",
      "4       Rockets Fan. Red Rowdy. Rockets apparel collec...   \n",
      "...                                                   ...   \n",
      "187871  Writer // Content creator 💭 ✉️ Enquiries: zoe@...   \n",
      "187872  Writer // Content creator 💭 ✉️ Enquiries: zoe@...   \n",
      "187873  Writer // Content creator 💭 ✉️ Enquiries: zoe@...   \n",
      "187874  Interior | Home | Lifestyle | Germany ▫️some m...   \n",
      "187875  Interior | Home | Lifestyle | Germany ▫️some m...   \n",
      "\n",
      "                        Email  Phone  \\\n",
      "0                         NaN    NaN   \n",
      "1                         NaN    NaN   \n",
      "2                         NaN    NaN   \n",
      "3                         NaN    NaN   \n",
      "4                         NaN    NaN   \n",
      "...                       ...    ...   \n",
      "187871      zoe@zwithlove.com    NaN   \n",
      "187872      zoe@zwithlove.com    NaN   \n",
      "187873      zoe@zwithlove.com    NaN   \n",
      "187874  zyinterior@outlook.de    NaN   \n",
      "187875  zyinterior@outlook.de    NaN   \n",
      "\n",
      "                                              Profile_pic Detected_Language  \\\n",
      "0       https://scontent-lax3-1.cdninstagram.com/vp/d2...                en   \n",
      "1       https://scontent-lax3-1.cdninstagram.com/vp/d2...                en   \n",
      "2       https://scontent-lax3-1.cdninstagram.com/vp/d2...                en   \n",
      "3       https://scontent-lax3-1.cdninstagram.com/vp/d2...                en   \n",
      "4       https://scontent-lax3-1.cdninstagram.com/vp/d2...                en   \n",
      "...                                                   ...               ...   \n",
      "187871  https://scontent-lax3-1.cdninstagram.com/vp/89...                en   \n",
      "187872  https://scontent-lax3-1.cdninstagram.com/vp/89...                en   \n",
      "187873  https://scontent-lax3-1.cdninstagram.com/vp/89...                en   \n",
      "187874  https://scontent-lax3-1.cdninstagram.com/vp/05...                de   \n",
      "187875  https://scontent-lax3-1.cdninstagram.com/vp/05...                de   \n",
      "\n",
      "       Is_English  \n",
      "0            True  \n",
      "1            True  \n",
      "2            True  \n",
      "3            True  \n",
      "4            True  \n",
      "...           ...  \n",
      "187871       True  \n",
      "187872       True  \n",
      "187873       True  \n",
      "187874      False  \n",
      "187875      False  \n",
      "\n",
      "[187876 rows x 32 columns]\n"
     ]
    }
   ],
   "source": [
    "print(data)"
   ]
  },
  {
   "cell_type": "code",
   "execution_count": 9,
   "metadata": {
    "colab": {
     "base_uri": "https://localhost:8080/"
    },
    "executionInfo": {
     "elapsed": 241,
     "status": "ok",
     "timestamp": 1711191854496,
     "user": {
      "displayName": "Javier Torralba Flores",
      "userId": "04030390242553285581"
     },
     "user_tz": -60
    },
    "id": "-PTEZ1j2-Pn0",
    "outputId": "573c4fc2-ddbd-4b97-da99-6cec788ac755"
   },
   "outputs": [
    {
     "name": "stdout",
     "output_type": "stream",
     "text": [
      "True     157899\n",
      "False     29977\n",
      "Name: Is_English, dtype: int64\n",
      "en     157899\n",
      "it       6436\n",
      "fr       4519\n",
      "es       4435\n",
      "de       4214\n",
      "        ...  \n",
      "bm          1\n",
      "mk          1\n",
      "ckb         1\n",
      "ny          1\n",
      "sm          1\n",
      "Name: Detected_Language, Length: 97, dtype: int64\n"
     ]
    }
   ],
   "source": [
    "english_counts = data['Is_English'].value_counts()\n",
    "language_counts = data['Detected_Language'].value_counts()\n",
    "\n",
    "print(english_counts)\n",
    "print(language_counts)"
   ]
  },
  {
   "cell_type": "code",
   "execution_count": 11,
   "metadata": {
    "colab": {
     "base_uri": "https://localhost:8080/"
    },
    "executionInfo": {
     "elapsed": 230,
     "status": "ok",
     "timestamp": 1711192182494,
     "user": {
      "displayName": "Javier Torralba Flores",
      "userId": "04030390242553285581"
     },
     "user_tz": -60
    },
    "id": "EhV11IkP-4od",
    "outputId": "6c828c31-41ce-4d6a-9c89-7e3a4aae676f"
   },
   "outputs": [
    {
     "name": "stdout",
     "output_type": "stream",
     "text": [
      "Sponsorship label       0      1\n",
      "Is_English                      \n",
      "False               26121   3856\n",
      "True               134559  23340\n"
     ]
    }
   ],
   "source": [
    "sponsorship_language_combination = pd.crosstab(data['Is_English'], data['Sponsorship label'])\n",
    "\n",
    "print(sponsorship_language_combination)"
   ]
  }
 ],
 "metadata": {
  "colab": {
   "authorship_tag": "ABX9TyO6PX+zglajIHsTzycqL5tC",
   "provenance": []
  },
  "kernelspec": {
   "display_name": "Python 3",
   "name": "python3"
  },
  "language_info": {
   "name": "python"
  }
 },
 "nbformat": 4,
 "nbformat_minor": 0
}
