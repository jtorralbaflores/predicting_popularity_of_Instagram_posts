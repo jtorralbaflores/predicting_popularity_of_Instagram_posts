{
 "cells": [
  {
   "cell_type": "markdown",
   "metadata": {},
   "source": [
    "Getting all of the names from the pictures and then matching that with the JSON file names, to get which JSON filenames we need. "
   ]
  },
  {
   "cell_type": "code",
   "execution_count": 1,
   "metadata": {},
   "outputs": [],
   "source": [
    "import numpy as np\n",
    "import json\n",
    "import pandas as pd\n",
    "\n",
    "# Initialize a list to collect all JSON filenames from all batches\n",
    "all_json_filenames_needed = []\n",
    "\n",
    "# Loop through each batch file\n",
    "for batch_num in range(1, 15):  # Assuming there are 14 batches\n",
    "    # Load the list of processed image filenames from the current .npy file\n",
    "    batch_file = f'D:/DSS Thesis/data_processing/image_pre_processing/output/filenames_batch{batch_num}.npy'\n",
    "    processed_image_filenames = np.load(batch_file, allow_pickle=True)\n",
    "\n",
    "    # Read the post_info data from the text file\n",
    "    with open('D:/DSS Thesis/Data/Instagram_alternative_brand/post_info.txt', 'r') as file:\n",
    "        post_info_lines = file.readlines()\n",
    "\n",
    "    # Extract the JSON filenames that correspond to the processed images\n",
    "    json_filenames_needed = []\n",
    "    for line in post_info_lines:\n",
    "        parts = line.strip().split('\\t')\n",
    "        json_filename = parts[3]\n",
    "        image_filenames = json.loads(parts[4].replace(\"'\", '\"'))\n",
    "        \n",
    "        # If any of the processed images are in the current line, add the JSON filename to the list\n",
    "        if any(img in processed_image_filenames for img in image_filenames):\n",
    "            json_filenames_needed.append(json_filename)\n",
    "\n",
    "    # Add the JSON filenames from the current batch to the overall list\n",
    "    all_json_filenames_needed.extend(json_filenames_needed)\n",
    "\n",
    "# Convert the accumulated list to a DataFrame\n",
    "df = pd.DataFrame(all_json_filenames_needed, columns=['json_filename'])\n",
    "\n",
    "# Save the DataFrame to a single CSV file\n",
    "df.to_csv('D:/DSS Thesis/data_processing/metadata_pre_processing/output/json_filenames_needed.csv', index=False)\n"
   ]
  }
 ],
 "metadata": {
  "kernelspec": {
   "display_name": "base",
   "language": "python",
   "name": "python3"
  },
  "language_info": {
   "codemirror_mode": {
    "name": "ipython",
    "version": 3
   },
   "file_extension": ".py",
   "mimetype": "text/x-python",
   "name": "python",
   "nbconvert_exporter": "python",
   "pygments_lexer": "ipython3",
   "version": "3.8.5"
  }
 },
 "nbformat": 4,
 "nbformat_minor": 2
}
