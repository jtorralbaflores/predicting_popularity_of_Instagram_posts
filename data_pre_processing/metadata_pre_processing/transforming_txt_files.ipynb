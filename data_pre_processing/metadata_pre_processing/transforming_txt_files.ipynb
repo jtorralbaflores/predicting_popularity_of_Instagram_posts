{
 "cells": [
  {
   "cell_type": "code",
   "execution_count": 2,
   "metadata": {},
   "outputs": [],
   "source": [
    "import pandas as pd\n",
    "\n",
    "# File path\n",
    "file_path = 'D:/DSS Thesis/data_processing/metadata_pre_processing/post_info.txt'\n",
    "\n",
    "# Read the txt file and split it into columns\n",
    "data = pd.read_csv(file_path, sep=\"\\t\", header=None)\n",
    "data.columns = [\"Post ID\", \"USER name\", \"Sponsorship label\", \"JSON file\", \"Image files\"]\n",
    "\n",
    "# Convert the dataframe to CSV\n",
    "output_csv_path = 'D:/DSS Thesis/data_processing/metadata_pre_processing/output/post_info_converted.csv'\n",
    "data.to_csv(output_csv_path, index=False)\n"
   ]
  }
 ],
 "metadata": {
  "kernelspec": {
   "display_name": "base",
   "language": "python",
   "name": "python3"
  },
  "language_info": {
   "codemirror_mode": {
    "name": "ipython",
    "version": 3
   },
   "file_extension": ".py",
   "mimetype": "text/x-python",
   "name": "python",
   "nbconvert_exporter": "python",
   "pygments_lexer": "ipython3",
   "version": "3.8.5"
  }
 },
 "nbformat": 4,
 "nbformat_minor": 2
}
