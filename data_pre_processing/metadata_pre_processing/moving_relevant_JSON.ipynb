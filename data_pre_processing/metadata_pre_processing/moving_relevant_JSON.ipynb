{
 "cells": [
  {
   "cell_type": "code",
   "execution_count": 5,
   "metadata": {},
   "outputs": [
    {
     "name": "stdout",
     "output_type": "stream",
     "text": [
      "File not found: 1829133811802068668.json\n"
     ]
    }
   ],
   "source": [
    "import pandas as pd\n",
    "import shutil\n",
    "import os\n",
    "\n",
    "# Path to the CSV file with the list of JSON filenames\n",
    "csv_file = 'D:/DSS Thesis/data_processing/metadata_pre_processing/output/json_filenames_needed.csv'\n",
    "\n",
    "# Path to the folder containing the JSON files\n",
    "json_dir = 'D:/DSS Thesis/Data/Instagram_alternative_brand/json'\n",
    "\n",
    "# Path to the folder where you want to copy the JSON files\n",
    "destination_dir = 'D:/DSS Thesis/data_processing/metadata_pre_processing/relevant_JSON'\n",
    "\n",
    "# Load the list of JSON filenames from the CSV\n",
    "df = pd.read_csv(csv_file)\n",
    "\n",
    "# Copy each JSON file\n",
    "for json_filename in df['json_filename']:\n",
    "    source_file = os.path.join(json_dir, json_filename)\n",
    "    if os.path.exists(source_file):\n",
    "        shutil.copy(source_file, destination_dir)\n",
    "    else:\n",
    "        print(f\"File not found: {json_filename}\")\n",
    "\n"
   ]
  }
 ],
 "metadata": {
  "kernelspec": {
   "display_name": "base",
   "language": "python",
   "name": "python3"
  },
  "language_info": {
   "codemirror_mode": {
    "name": "ipython",
    "version": 3
   },
   "file_extension": ".py",
   "mimetype": "text/x-python",
   "name": "python",
   "nbconvert_exporter": "python",
   "pygments_lexer": "ipython3",
   "version": "3.8.5"
  }
 },
 "nbformat": 4,
 "nbformat_minor": 2
}
