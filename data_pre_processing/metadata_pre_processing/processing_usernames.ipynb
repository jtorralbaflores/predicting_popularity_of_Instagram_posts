{
 "cells": [
  {
   "cell_type": "code",
   "execution_count": 3,
   "metadata": {},
   "outputs": [
    {
     "ename": "KeyboardInterrupt",
     "evalue": "",
     "output_type": "error",
     "traceback": [
      "\u001b[1;31m---------------------------------------------------------------------------\u001b[0m",
      "\u001b[1;31mKeyboardInterrupt\u001b[0m                         Traceback (most recent call last)",
      "\u001b[1;32m<ipython-input-3-b76a3bebd262>\u001b[0m in \u001b[0;36m<module>\u001b[1;34m\u001b[0m\n\u001b[0;32m     35\u001b[0m \u001b[1;33m\u001b[0m\u001b[0m\n\u001b[0;32m     36\u001b[0m \u001b[1;31m# Process files and create the DataFrame\u001b[0m\u001b[1;33m\u001b[0m\u001b[1;33m\u001b[0m\u001b[1;33m\u001b[0m\u001b[0m\n\u001b[1;32m---> 37\u001b[1;33m \u001b[0mfinal_df\u001b[0m \u001b[1;33m=\u001b[0m \u001b[0mprocess_files_from_csv\u001b[0m\u001b[1;33m(\u001b[0m\u001b[0mdirectory_path\u001b[0m\u001b[1;33m,\u001b[0m \u001b[0mcsv_file_path\u001b[0m\u001b[1;33m)\u001b[0m\u001b[1;33m\u001b[0m\u001b[1;33m\u001b[0m\u001b[0m\n\u001b[0m\u001b[0;32m     38\u001b[0m \u001b[1;33m\u001b[0m\u001b[0m\n\u001b[0;32m     39\u001b[0m \u001b[1;31m# Save the final DataFrame to a CSV file\u001b[0m\u001b[1;33m\u001b[0m\u001b[1;33m\u001b[0m\u001b[1;33m\u001b[0m\u001b[0m\n",
      "\u001b[1;32m<ipython-input-3-b76a3bebd262>\u001b[0m in \u001b[0;36mprocess_files_from_csv\u001b[1;34m(directory_path, csv_file_path)\u001b[0m\n\u001b[0;32m     24\u001b[0m         \u001b[0mfile_name\u001b[0m \u001b[1;33m=\u001b[0m \u001b[0musername\u001b[0m\u001b[1;33m\u001b[0m\u001b[1;33m\u001b[0m\u001b[0m\n\u001b[0;32m     25\u001b[0m         \u001b[0mfile_path\u001b[0m \u001b[1;33m=\u001b[0m \u001b[0mos\u001b[0m\u001b[1;33m.\u001b[0m\u001b[0mpath\u001b[0m\u001b[1;33m.\u001b[0m\u001b[0mjoin\u001b[0m\u001b[1;33m(\u001b[0m\u001b[0mdirectory_path\u001b[0m\u001b[1;33m,\u001b[0m \u001b[0mfile_name\u001b[0m\u001b[1;33m)\u001b[0m\u001b[1;33m\u001b[0m\u001b[1;33m\u001b[0m\u001b[0m\n\u001b[1;32m---> 26\u001b[1;33m         \u001b[1;32mif\u001b[0m \u001b[0mos\u001b[0m\u001b[1;33m.\u001b[0m\u001b[0mpath\u001b[0m\u001b[1;33m.\u001b[0m\u001b[0mexists\u001b[0m\u001b[1;33m(\u001b[0m\u001b[0mfile_path\u001b[0m\u001b[1;33m)\u001b[0m\u001b[1;33m:\u001b[0m\u001b[1;33m\u001b[0m\u001b[1;33m\u001b[0m\u001b[0m\n\u001b[0m\u001b[0;32m     27\u001b[0m             \u001b[0mdata\u001b[0m \u001b[1;33m=\u001b[0m \u001b[0mprocess_file\u001b[0m\u001b[1;33m(\u001b[0m\u001b[0mfile_path\u001b[0m\u001b[1;33m)\u001b[0m\u001b[1;33m\u001b[0m\u001b[1;33m\u001b[0m\u001b[0m\n\u001b[0;32m     28\u001b[0m             \u001b[0mall_data_df\u001b[0m \u001b[1;33m=\u001b[0m \u001b[0mall_data_df\u001b[0m\u001b[1;33m.\u001b[0m\u001b[0mappend\u001b[0m\u001b[1;33m(\u001b[0m\u001b[0mpd\u001b[0m\u001b[1;33m.\u001b[0m\u001b[0mDataFrame\u001b[0m\u001b[1;33m(\u001b[0m\u001b[1;33m[\u001b[0m\u001b[0mdata\u001b[0m\u001b[1;33m]\u001b[0m\u001b[1;33m,\u001b[0m \u001b[0mcolumns\u001b[0m\u001b[1;33m=\u001b[0m\u001b[0mcolumn_names\u001b[0m\u001b[1;33m)\u001b[0m\u001b[1;33m,\u001b[0m \u001b[0mignore_index\u001b[0m\u001b[1;33m=\u001b[0m\u001b[1;32mTrue\u001b[0m\u001b[1;33m)\u001b[0m\u001b[1;33m\u001b[0m\u001b[1;33m\u001b[0m\u001b[0m\n",
      "\u001b[1;32mc:\\Users\\Javier Torralba\\anaconda3\\lib\\genericpath.py\u001b[0m in \u001b[0;36mexists\u001b[1;34m(path)\u001b[0m\n\u001b[0;32m     17\u001b[0m     \u001b[1;34m\"\"\"Test whether a path exists.  Returns False for broken symbolic links\"\"\"\u001b[0m\u001b[1;33m\u001b[0m\u001b[1;33m\u001b[0m\u001b[0m\n\u001b[0;32m     18\u001b[0m     \u001b[1;32mtry\u001b[0m\u001b[1;33m:\u001b[0m\u001b[1;33m\u001b[0m\u001b[1;33m\u001b[0m\u001b[0m\n\u001b[1;32m---> 19\u001b[1;33m         \u001b[0mos\u001b[0m\u001b[1;33m.\u001b[0m\u001b[0mstat\u001b[0m\u001b[1;33m(\u001b[0m\u001b[0mpath\u001b[0m\u001b[1;33m)\u001b[0m\u001b[1;33m\u001b[0m\u001b[1;33m\u001b[0m\u001b[0m\n\u001b[0m\u001b[0;32m     20\u001b[0m     \u001b[1;32mexcept\u001b[0m \u001b[1;33m(\u001b[0m\u001b[0mOSError\u001b[0m\u001b[1;33m,\u001b[0m \u001b[0mValueError\u001b[0m\u001b[1;33m)\u001b[0m\u001b[1;33m:\u001b[0m\u001b[1;33m\u001b[0m\u001b[1;33m\u001b[0m\u001b[0m\n\u001b[0;32m     21\u001b[0m         \u001b[1;32mreturn\u001b[0m \u001b[1;32mFalse\u001b[0m\u001b[1;33m\u001b[0m\u001b[1;33m\u001b[0m\u001b[0m\n",
      "\u001b[1;31mKeyboardInterrupt\u001b[0m: "
     ]
    }
   ],
   "source": [
    "import pandas as pd\n",
    "import os\n",
    "\n",
    "def process_file(file_path):\n",
    "    with open(file_path, 'r', encoding='utf-8') as file:\n",
    "        line = file.readline().strip()\n",
    "        data = line.split('\\t')\n",
    "        # Pad data with NA if there are missing fields\n",
    "        while len(data) < 11:\n",
    "            data.append('NA')\n",
    "        return data\n",
    "\n",
    "def process_files_from_csv(directory_path, csv_file_path):\n",
    "    # Load CSV with usernames\n",
    "    usernames_df = pd.read_csv(csv_file_path)\n",
    "    usernames = usernames_df['username']  \n",
    "\n",
    "    # Initialize an empty DataFrame\n",
    "    column_names = ['Name', 'Followers', 'Followees', 'Posts', 'URL', 'TF', 'Category', 'Bio', 'Email', 'Phone', 'Profile_pic']\n",
    "    all_data_df = pd.DataFrame(columns=column_names)\n",
    "\n",
    "    # Process each file\n",
    "    for username in usernames:\n",
    "        file_name = username \n",
    "        file_path = os.path.join(directory_path, file_name)\n",
    "        if os.path.exists(file_path):\n",
    "            data = process_file(file_path)\n",
    "            all_data_df = all_data_df.append(pd.DataFrame([data], columns=column_names), ignore_index=True)\n",
    "\n",
    "    return all_data_df\n",
    "\n",
    "# Directory containing the files and path to the CSV file\n",
    "directory_path = 'D:/DSS Thesis/Data/Instagram_alternative_brand/profiles_influencers (1)/users_influencers_SPOD'\n",
    "csv_file_path = \"D:/DSS Thesis/data_processing/metadata_pre_processing/output/relevant_usernames.csv\" \n",
    "\n",
    "# Process files and create the DataFrame\n",
    "final_df = process_files_from_csv(directory_path, csv_file_path)\n",
    "\n",
    "# Save the final DataFrame to a CSV file\n",
    "final_df.to_csv('D:/DSS Thesis/data_processing/metadata_pre_processing/output/relevant_username_data.csv', index=False)\n",
    "\n",
    "print(\"DataFrame created and saved as 'final_influencers_data.csv'\")\n"
   ]
  },
  {
   "cell_type": "code",
   "execution_count": 4,
   "metadata": {},
   "outputs": [
    {
     "name": "stdout",
     "output_type": "stream",
     "text": [
      "DataFrame created and saved as 'relevant_username_data.csv'\n"
     ]
    }
   ],
   "source": [
    "import pandas as pd\n",
    "import os\n",
    "\n",
    "def process_file(file_path):\n",
    "    with open(file_path, 'r', encoding='utf-8') as file:\n",
    "        line = file.readline().strip()\n",
    "        data = line.split('\\t')\n",
    "        # Pad data with NA if there are missing fields\n",
    "        while len(data) < 11:\n",
    "            data.append('NA')\n",
    "        return data\n",
    "\n",
    "def process_files_from_csv(directory_path, csv_file_path):\n",
    "    # Load CSV with usernames\n",
    "    usernames_df = pd.read_csv(csv_file_path)\n",
    "    usernames = usernames_df['username']  \n",
    "\n",
    "    # Initialize an empty DataFrame\n",
    "    column_names = ['Username', 'Name', 'Followers', 'Followees', 'Posts', 'URL', 'TF', 'Category', 'Bio', 'Email', 'Phone', 'Profile_pic']\n",
    "    all_data_df = pd.DataFrame(columns=column_names)\n",
    "\n",
    "    # Process each file\n",
    "    for username in usernames:\n",
    "        file_name = username  # File name without an extension\n",
    "        file_path = os.path.join(directory_path, file_name)\n",
    "        if os.path.exists(file_path):\n",
    "            data = [username] + process_file(file_path)  # Prepend username to the data\n",
    "            all_data_df = all_data_df.append(pd.DataFrame([data], columns=column_names), ignore_index=True)\n",
    "        else:\n",
    "            print(f\"File not found: {file_path}\")\n",
    "\n",
    "    return all_data_df\n",
    "\n",
    "# Directory containing the files and path to the CSV file\n",
    "directory_path = 'D:/DSS Thesis/Data/Instagram_alternative_brand/profiles_influencers (1)/users_influencers_SPOD'\n",
    "csv_file_path = \"D:/DSS Thesis/data_processing/metadata_pre_processing/output/relevant_usernames.csv\" \n",
    "\n",
    "# Process files and create the DataFrame\n",
    "final_df = process_files_from_csv(directory_path, csv_file_path)\n",
    "\n",
    "# Save the final DataFrame to a CSV file\n",
    "final_df.to_csv('D:/DSS Thesis/data_processing/metadata_pre_processing/output/relevant_username_data.csv', index=False)\n",
    "\n",
    "print(\"DataFrame created and saved as 'relevant_username_data.csv'\")\n"
   ]
  }
 ],
 "metadata": {
  "kernelspec": {
   "display_name": "base",
   "language": "python",
   "name": "python3"
  },
  "language_info": {
   "codemirror_mode": {
    "name": "ipython",
    "version": 3
   },
   "file_extension": ".py",
   "mimetype": "text/x-python",
   "name": "python",
   "nbconvert_exporter": "python",
   "pygments_lexer": "ipython3",
   "version": "3.8.5"
  }
 },
 "nbformat": 4,
 "nbformat_minor": 2
}
